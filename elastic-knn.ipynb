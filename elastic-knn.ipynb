{
 "cells": [
  {
   "cell_type": "code",
   "execution_count": 1,
   "metadata": {},
   "outputs": [],
   "source": [
    "#!pip install elasticsearch"
   ]
  },
  {
   "cell_type": "code",
   "execution_count": 1,
   "metadata": {},
   "outputs": [
    {
     "name": "stdout",
     "output_type": "stream",
     "text": [
      "loaded ...............\n"
     ]
    }
   ],
   "source": [
    "import elasticsearch\n",
    "from elasticsearch import Elasticsearch\n",
    "import pandas as pd\n",
    "import json\n",
    "from ast import literal_eval\n",
    "from tqdm import tqdm\n",
    "import datetime\n",
    "import os\n",
    "import sys\n",
    "import numpy\n",
    "from elasticsearch import helpers\n",
    "print(\"loaded ...............\")\n"
   ]
  },
  {
   "cell_type": "code",
   "execution_count": 20,
   "metadata": {},
   "outputs": [],
   "source": [
    "ENDPOINT=\"http://localhost:9200\""
   ]
  },
  {
   "cell_type": "code",
   "execution_count": 21,
   "metadata": {},
   "outputs": [
    {
     "name": "stderr",
     "output_type": "stream",
     "text": [
      "/home/sahab/anaconda3/lib/python3.7/site-packages/ipykernel_launcher.py:2: ElasticsearchWarning: Elasticsearch built-in security features are not enabled. Without authentication, your cluster could be accessible to anyone. See https://www.elastic.co/guide/en/elasticsearch/reference/7.17/security-minimal-setup.html to enable security.\n",
      "  \n"
     ]
    },
    {
     "data": {
      "text/plain": [
       "True"
      ]
     },
     "execution_count": 21,
     "metadata": {},
     "output_type": "execute_result"
    }
   ],
   "source": [
    "es = Elasticsearch(request_timeout=100, hosts=ENDPOINT)\n",
    "es.ping()"
   ]
  },
  {
   "cell_type": "code",
   "execution_count": 4,
   "metadata": {
    "scrolled": false
   },
   "outputs": [
    {
     "data": {
      "text/plain": [
       "['.ipynb_checkpoints', 'netflix_titles.csv', 'elastic-knn.ipynb']"
      ]
     },
     "execution_count": 4,
     "metadata": {},
     "output_type": "execute_result"
    }
   ],
   "source": [
    "os.listdir()"
   ]
  },
  {
   "cell_type": "code",
   "execution_count": 5,
   "metadata": {},
   "outputs": [
    {
     "data": {
      "text/html": [
       "<div>\n",
       "<style scoped>\n",
       "    .dataframe tbody tr th:only-of-type {\n",
       "        vertical-align: middle;\n",
       "    }\n",
       "\n",
       "    .dataframe tbody tr th {\n",
       "        vertical-align: top;\n",
       "    }\n",
       "\n",
       "    .dataframe thead th {\n",
       "        text-align: right;\n",
       "    }\n",
       "</style>\n",
       "<table border=\"1\" class=\"dataframe\">\n",
       "  <thead>\n",
       "    <tr style=\"text-align: right;\">\n",
       "      <th></th>\n",
       "      <th>show_id</th>\n",
       "      <th>type</th>\n",
       "      <th>title</th>\n",
       "      <th>director</th>\n",
       "      <th>cast</th>\n",
       "      <th>country</th>\n",
       "      <th>date_added</th>\n",
       "      <th>release_year</th>\n",
       "      <th>rating</th>\n",
       "      <th>duration</th>\n",
       "      <th>listed_in</th>\n",
       "      <th>description</th>\n",
       "    </tr>\n",
       "  </thead>\n",
       "  <tbody>\n",
       "    <tr>\n",
       "      <th>0</th>\n",
       "      <td>81145628</td>\n",
       "      <td>Movie</td>\n",
       "      <td>Norm of the North: King Sized Adventure</td>\n",
       "      <td>Richard Finn, Tim Maltby</td>\n",
       "      <td>Alan Marriott, Andrew Toth, Brian Dobson, Cole...</td>\n",
       "      <td>United States, India, South Korea, China</td>\n",
       "      <td>September 9, 2019</td>\n",
       "      <td>2019</td>\n",
       "      <td>TV-PG</td>\n",
       "      <td>90 min</td>\n",
       "      <td>Children &amp; Family Movies, Comedies</td>\n",
       "      <td>Before planning an awesome wedding for his gra...</td>\n",
       "    </tr>\n",
       "  </tbody>\n",
       "</table>\n",
       "</div>"
      ],
      "text/plain": [
       "    show_id   type                                    title  \\\n",
       "0  81145628  Movie  Norm of the North: King Sized Adventure   \n",
       "\n",
       "                   director  \\\n",
       "0  Richard Finn, Tim Maltby   \n",
       "\n",
       "                                                cast  \\\n",
       "0  Alan Marriott, Andrew Toth, Brian Dobson, Cole...   \n",
       "\n",
       "                                    country         date_added  release_year  \\\n",
       "0  United States, India, South Korea, China  September 9, 2019          2019   \n",
       "\n",
       "  rating duration                           listed_in  \\\n",
       "0  TV-PG   90 min  Children & Family Movies, Comedies   \n",
       "\n",
       "                                         description  \n",
       "0  Before planning an awesome wedding for his gra...  "
      ]
     },
     "execution_count": 5,
     "metadata": {},
     "output_type": "execute_result"
    }
   ],
   "source": [
    "df=pd.read_csv(\"netflix_titles.csv\")\n",
    "df.head(1)"
   ]
  },
  {
   "cell_type": "code",
   "execution_count": 6,
   "metadata": {},
   "outputs": [
    {
     "data": {
      "text/plain": [
       "6234"
      ]
     },
     "execution_count": 6,
     "metadata": {},
     "output_type": "execute_result"
    }
   ],
   "source": [
    "titles=df[\"title\"].to_list()\n",
    "len(titles)"
   ]
  },
  {
   "cell_type": "code",
   "execution_count": 9,
   "metadata": {},
   "outputs": [],
   "source": [
    "import tensorflow as tf\n",
    "import tensorflow_hub as hub"
   ]
  },
  {
   "cell_type": "code",
   "execution_count": 10,
   "metadata": {},
   "outputs": [],
   "source": [
    "import numpy as np\n",
    "module_url='https://tfhub.dev/google/nnlm-en-dim128/2'\n",
    "embed = hub.KerasLayer(module_url)\n",
    "vector = []\n",
    "for c, title in enumerate(titles):\n",
    "    x=tf.constant([title])\n",
    "    embeddings=embed(x)\n",
    "    x=np.asarray(embeddings)\n",
    "    x=x[0].tolist()\n",
    "    vector.append(x)"
   ]
  },
  {
   "cell_type": "code",
   "execution_count": 11,
   "metadata": {},
   "outputs": [
    {
     "data": {
      "text/plain": [
       "6234"
      ]
     },
     "execution_count": 11,
     "metadata": {},
     "output_type": "execute_result"
    }
   ],
   "source": [
    "len(vector)"
   ]
  },
  {
   "cell_type": "code",
   "execution_count": 12,
   "metadata": {},
   "outputs": [],
   "source": [
    "iindex = 'netflix-titles'\n",
    "requests = []\n",
    "for i, doc in enumerate(titles):\n",
    "    request = {}\n",
    "    request[\"_op_type\"] = \"index\"\n",
    "    request[\"_index\"] = iindex\n",
    "    request[\"_id\"] = i\n",
    "    request[\"title\"] = doc\n",
    "    request[\"title_vector\"] = vector[i]\n",
    "    requests.append(request)"
   ]
  },
  {
   "cell_type": "code",
   "execution_count": 13,
   "metadata": {},
   "outputs": [
    {
     "data": {
      "text/plain": [
       "{'_op_type': 'index',\n",
       " '_index': 'netflix-titles',\n",
       " '_id': 0,\n",
       " 'title': 'Norm of the North: King Sized Adventure',\n",
       " 'title_vector': [0.08594008535146713,\n",
       "  -0.09169774502515793,\n",
       "  -0.08221834152936935,\n",
       "  0.1603367030620575,\n",
       "  0.05244443938136101,\n",
       "  0.11267175525426865,\n",
       "  -0.08382085710763931,\n",
       "  0.09882048517465591,\n",
       "  0.021728241816163063,\n",
       "  -0.18144603073596954,\n",
       "  0.0012927551288157701,\n",
       "  0.030685216188430786,\n",
       "  -0.04533662647008896,\n",
       "  -0.07281119376420975,\n",
       "  -0.11955680698156357,\n",
       "  0.017013855278491974,\n",
       "  0.033623743802309036,\n",
       "  -0.009736377745866776,\n",
       "  0.033763282001018524,\n",
       "  0.1921098679304123,\n",
       "  0.00620125001296401,\n",
       "  0.015555042773485184,\n",
       "  0.06574436277151108,\n",
       "  0.11323074996471405,\n",
       "  -0.10774068534374237,\n",
       "  0.16938979923725128,\n",
       "  -0.13922490179538727,\n",
       "  -0.10309455543756485,\n",
       "  -5.224486085353419e-05,\n",
       "  0.023089049383997917,\n",
       "  0.04559335485100746,\n",
       "  -0.10510903596878052,\n",
       "  -0.1005614772439003,\n",
       "  -0.07881765812635422,\n",
       "  0.025743374601006508,\n",
       "  -0.05974612757563591,\n",
       "  -0.1747056096792221,\n",
       "  -0.05892287939786911,\n",
       "  -0.06596986949443817,\n",
       "  -0.09151236712932587,\n",
       "  0.03593139722943306,\n",
       "  -0.07345644384622574,\n",
       "  -0.018012331798672676,\n",
       "  0.036221787333488464,\n",
       "  0.07314501702785492,\n",
       "  -0.06195896491408348,\n",
       "  -0.0023348417598754168,\n",
       "  -0.1982719600200653,\n",
       "  -0.32910940051078796,\n",
       "  0.006821473594754934,\n",
       "  0.1486814171075821,\n",
       "  0.2550199031829834,\n",
       "  0.1663597822189331,\n",
       "  0.15605349838733673,\n",
       "  0.12756910920143127,\n",
       "  -0.057475071400403976,\n",
       "  0.14456160366535187,\n",
       "  -0.05416375771164894,\n",
       "  0.06393317878246307,\n",
       "  -0.08582285791635513,\n",
       "  0.01952993869781494,\n",
       "  0.030426722019910812,\n",
       "  -0.13159017264842987,\n",
       "  -0.011763839051127434,\n",
       "  -0.052122000604867935,\n",
       "  -0.0077751814387738705,\n",
       "  0.000531066267285496,\n",
       "  0.03532465919852257,\n",
       "  0.14036868512630463,\n",
       "  -0.04217004030942917,\n",
       "  -0.0504852756857872,\n",
       "  0.08859632164239883,\n",
       "  0.02489238791167736,\n",
       "  0.036609407514333725,\n",
       "  0.0126565620303154,\n",
       "  -0.031059177592396736,\n",
       "  0.13535012304782867,\n",
       "  -0.07467729598283768,\n",
       "  -0.006392979994416237,\n",
       "  -0.0072161550633609295,\n",
       "  0.10756982862949371,\n",
       "  -0.03459356725215912,\n",
       "  0.05434965342283249,\n",
       "  0.10563021898269653,\n",
       "  -0.023835688829421997,\n",
       "  -0.1384897232055664,\n",
       "  -0.10662095248699188,\n",
       "  -0.11560707539319992,\n",
       "  -0.018126854673027992,\n",
       "  -0.11542601138353348,\n",
       "  0.05233074352145195,\n",
       "  -0.08457084000110626,\n",
       "  0.04891548305749893,\n",
       "  0.048610806465148926,\n",
       "  -0.0861951932311058,\n",
       "  -0.1646905094385147,\n",
       "  0.05879170820116997,\n",
       "  -0.09346246719360352,\n",
       "  0.21104933321475983,\n",
       "  0.07167480885982513,\n",
       "  0.09941790252923965,\n",
       "  -0.04874766990542412,\n",
       "  -0.1182163655757904,\n",
       "  -0.11691499501466751,\n",
       "  -0.04042291268706322,\n",
       "  -0.035517025738954544,\n",
       "  0.00647058617323637,\n",
       "  0.07046835869550705,\n",
       "  0.032006461173295975,\n",
       "  -0.017604319378733635,\n",
       "  0.19582407176494598,\n",
       "  0.01993837207555771,\n",
       "  -0.01663972996175289,\n",
       "  0.11849723756313324,\n",
       "  -0.10080187022686005,\n",
       "  -0.009301570244133472,\n",
       "  0.03264541178941727,\n",
       "  -0.03453604876995087,\n",
       "  -0.032728590071201324,\n",
       "  -0.060384053736925125,\n",
       "  -0.014748498797416687,\n",
       "  -0.08714324980974197,\n",
       "  0.0329294428229332,\n",
       "  -0.04497247189283371,\n",
       "  -0.0888349786400795,\n",
       "  0.02692333608865738,\n",
       "  0.18709281086921692,\n",
       "  -0.0029447374399751425]}"
      ]
     },
     "execution_count": 13,
     "metadata": {},
     "output_type": "execute_result"
    }
   ],
   "source": [
    "requests[0]"
   ]
  },
  {
   "cell_type": "code",
   "execution_count": 21,
   "metadata": {},
   "outputs": [],
   "source": [
    "# settings = {\n",
    "#     \"settings\":{\n",
    "#         \"number_of_shards\":2,\n",
    "#         \"number_of_replicas\":1,\n",
    "#         \"index.knn\":True\n",
    "#     },\n",
    "#     \"mappings\":{\n",
    "#         \"dynamic\":'true',\n",
    "#         \"_source\":{\n",
    "#             \"enabled\":'true'\n",
    "#         },\n",
    "#         \"properties\":{\n",
    "#             \"title\":{\n",
    "#               \"type\":\"text\"  \n",
    "#             },\n",
    "#             \"title_vector\":{\n",
    "#                 \"type\":\"knn_vector\",\n",
    "#                 \"dimension\":128               \n",
    "                \n",
    "#             }\n",
    "            \n",
    "#         }\n",
    "        \n",
    "#     }    \n",
    "   \n",
    "# }\n",
    "knn_index = {\n",
    "    \"settings\": {\n",
    "        \"index.knn\": True\n",
    "    },\n",
    "    \"mappings\": {\n",
    "        \"properties\": {\n",
    "            \"question_vector\": {\n",
    "                \"type\": \"knn_vector\",\n",
    "                \"dimension\": 256\n",
    "            }\n",
    "        }\n",
    "    }\n",
    "}"
   ]
  },
  {
   "cell_type": "code",
   "execution_count": 14,
   "metadata": {},
   "outputs": [],
   "source": [
    "mapping = {\n",
    "    \"dynamic\": False,\n",
    "    \"properties\": {\n",
    "      \"title\": {\n",
    "        \"type\": \"text\"\n",
    "      },\n",
    "      \"title_vector\": {\n",
    "        \"type\": \"knn_vector\",\n",
    "        \"dimension\": 128\n",
    "      }\n",
    "    }\n",
    "  }\n"
   ]
  },
  {
   "cell_type": "code",
   "execution_count": 15,
   "metadata": {},
   "outputs": [
    {
     "data": {
      "text/plain": [
       "{'dynamic': False,\n",
       " 'properties': {'title': {'type': 'text'},\n",
       "  'title_vector': {'type': 'knn_vector', 'dimension': 128}}}"
      ]
     },
     "execution_count": 15,
     "metadata": {},
     "output_type": "execute_result"
    }
   ],
   "source": [
    "mapping"
   ]
  },
  {
   "cell_type": "code",
   "execution_count": 22,
   "metadata": {},
   "outputs": [
    {
     "name": "stderr",
     "output_type": "stream",
     "text": [
      "/home/sahab/anaconda3/lib/python3.7/site-packages/ipykernel_launcher.py:2: ElasticsearchWarning: Elasticsearch built-in security features are not enabled. Without authentication, your cluster could be accessible to anyone. See https://www.elastic.co/guide/en/elasticsearch/reference/7.17/security-minimal-setup.html to enable security.\n",
      "  \n",
      "/home/sahab/anaconda3/lib/python3.7/site-packages/ipykernel_launcher.py:3: ElasticsearchWarning: Elasticsearch built-in security features are not enabled. Without authentication, your cluster could be accessible to anyone. See https://www.elastic.co/guide/en/elasticsearch/reference/7.17/security-minimal-setup.html to enable security.\n",
      "  This is separate from the ipykernel package so we can avoid doing imports until\n",
      "/home/sahab/anaconda3/lib/python3.7/site-packages/ipykernel_launcher.py:4: ElasticsearchWarning: Elasticsearch built-in security features are not enabled. Without authentication, your cluster could be accessible to anyone. See https://www.elastic.co/guide/en/elasticsearch/reference/7.17/security-minimal-setup.html to enable security.\n",
      "  after removing the cwd from sys.path.\n",
      "/home/sahab/anaconda3/lib/python3.7/site-packages/ipykernel_launcher.py:5: ElasticsearchWarning: Elasticsearch built-in security features are not enabled. Without authentication, your cluster could be accessible to anyone. See https://www.elastic.co/guide/en/elasticsearch/reference/7.17/security-minimal-setup.html to enable security.\n",
      "  \"\"\"\n",
      "/home/sahab/anaconda3/lib/python3.7/site-packages/ipykernel_launcher.py:6: ElasticsearchWarning: Elasticsearch built-in security features are not enabled. Without authentication, your cluster could be accessible to anyone. See https://www.elastic.co/guide/en/elasticsearch/reference/7.17/security-minimal-setup.html to enable security.\n",
      "  \n"
     ]
    },
    {
     "data": {
      "text/plain": [
       "ObjectApiResponse({'netflix-titles': {'mappings': {'_meta': {'dynamic': False, 'properties': {'title_vector': {'type': 'knn_vector', 'dimension': 128}, 'title': {'type': 'text'}}}}}})"
      ]
     },
     "execution_count": 22,
     "metadata": {},
     "output_type": "execute_result"
    }
   ],
   "source": [
    "iindex = 'netflix-titles'\n",
    "if es.indices.exists(index=iindex):\n",
    "    es.indices.delete(index=iindex)\n",
    "es.indices.create(index=iindex)\n",
    "es.indices.put_mapping(index=iindex, meta=mapping)\n",
    "es.indices.get_mapping(index=iindex)"
   ]
  },
  {
   "cell_type": "code",
   "execution_count": 53,
   "metadata": {},
   "outputs": [
    {
     "name": "stdout",
     "output_type": "stream",
     "text": [
      "Help on method put_mapping in module elasticsearch._sync.client.indices:\n",
      "\n",
      "put_mapping(*, index: Union[str, List[str], Tuple[str, ...]], allow_no_indices: Union[bool, NoneType] = None, date_detection: Union[bool, NoneType] = None, dynamic: Union[ForwardRef(\"t.Literal['false', 'runtime', 'strict', 'true']\"), str, NoneType] = None, dynamic_date_formats: Union[List[str], Tuple[str, ...], NoneType] = None, dynamic_templates: Union[Mapping[str, Mapping[str, Any]], List[Mapping[str, Mapping[str, Any]]], Tuple[Mapping[str, Mapping[str, Any]], ...], NoneType] = None, error_trace: Union[bool, NoneType] = None, expand_wildcards: Union[ForwardRef(\"t.Literal['all', 'closed', 'hidden', 'none', 'open']\"), str, List[Union[ForwardRef(\"t.Literal['all', 'closed', 'hidden', 'none', 'open']\"), str]], Tuple[Union[ForwardRef(\"t.Literal['all', 'closed', 'hidden', 'none', 'open']\"), str], ...], NoneType] = None, field_names: Union[Mapping[str, Any], NoneType] = None, filter_path: Union[str, List[str], Tuple[str, ...], NoneType] = None, human: Union[bool, NoneType] = None, ignore_unavailable: Union[bool, NoneType] = None, master_timeout: Union[int, str, NoneType] = None, meta: Union[Mapping[str, Any], NoneType] = None, numeric_detection: Union[bool, NoneType] = None, pretty: Union[bool, NoneType] = None, properties: Union[Mapping[str, Mapping[str, Any]], NoneType] = None, routing: Union[Mapping[str, Any], NoneType] = None, runtime: Union[Mapping[str, Union[Mapping[str, Any], List[Mapping[str, Any]], Tuple[Mapping[str, Any], ...]]], NoneType] = None, source: Union[Mapping[str, Any], NoneType] = None, timeout: Union[int, str, NoneType] = None, write_index_only: Union[bool, NoneType] = None) -> elastic_transport.ObjectApiResponse[typing.Any] method of elasticsearch._sync.client.indices.IndicesClient instance\n",
      "    Updates the index mappings.\n",
      "    \n",
      "    `<https://www.elastic.co/guide/en/elasticsearch/reference/8.1/indices-put-mapping.html>`_\n",
      "    \n",
      "    :param index: A comma-separated list of index names the mapping should be added\n",
      "        to (supports wildcards); use `_all` or omit to add the mapping on all indices.\n",
      "    :param allow_no_indices: Whether to ignore if a wildcard indices expression resolves\n",
      "        into no concrete indices. (This includes `_all` string or when no indices\n",
      "        have been specified)\n",
      "    :param date_detection: Controls whether dynamic date detection is enabled.\n",
      "    :param dynamic: Controls whether new fields are added dynamically.\n",
      "    :param dynamic_date_formats: If date detection is enabled then new string fields\n",
      "        are checked against 'dynamic_date_formats' and if the value matches then\n",
      "        a new date field is added instead of string.\n",
      "    :param dynamic_templates: Specify dynamic templates for the mapping.\n",
      "    :param expand_wildcards: Whether to expand wildcard expression to concrete indices\n",
      "        that are open, closed or both.\n",
      "    :param field_names: Control whether field names are enabled for the index.\n",
      "    :param ignore_unavailable: Whether specified concrete indices should be ignored\n",
      "        when unavailable (missing or closed)\n",
      "    :param master_timeout: Specify timeout for connection to master\n",
      "    :param meta: A mapping type can have custom meta data associated with it. These\n",
      "        are not used at all by Elasticsearch, but can be used to store application-specific\n",
      "        metadata.\n",
      "    :param numeric_detection: Automatically map strings into numeric data types for\n",
      "        all fields.\n",
      "    :param properties: Mapping for a field. For new fields, this mapping can include:\n",
      "        - Field name - Field data type - Mapping parameters\n",
      "    :param routing: Enable making a routing value required on indexed documents.\n",
      "    :param runtime: Mapping of runtime fields for the index.\n",
      "    :param source: Control whether the _source field is enabled on the index.\n",
      "    :param timeout: Explicit operation timeout\n",
      "    :param write_index_only: When true, applies mappings only to the write index\n",
      "        of an alias or data stream\n",
      "\n"
     ]
    }
   ],
   "source": [
    "help(es.indices.put_mapping)"
   ]
  },
  {
   "cell_type": "code",
   "execution_count": 23,
   "metadata": {},
   "outputs": [
    {
     "name": "stdout",
     "output_type": "stream",
     "text": [
      "my-approx-knn-index\n",
      "my-exact-knn-index\n",
      "netflix-titles\n",
      "exampleindex\n"
     ]
    },
    {
     "name": "stderr",
     "output_type": "stream",
     "text": [
      "/home/sahab/anaconda3/lib/python3.7/site-packages/ipykernel_launcher.py:1: ElasticsearchWarning: Elasticsearch built-in security features are not enabled. Without authentication, your cluster could be accessible to anyone. See https://www.elastic.co/guide/en/elasticsearch/reference/7.17/security-minimal-setup.html to enable security.\n",
      "  \"\"\"Entry point for launching an IPython kernel.\n"
     ]
    }
   ],
   "source": [
    "indices=es.indices.get_alias().keys()\n",
    "for Name in indices:\n",
    "    print(Name)"
   ]
  },
  {
   "cell_type": "code",
   "execution_count": 24,
   "metadata": {},
   "outputs": [
    {
     "name": "stderr",
     "output_type": "stream",
     "text": [
      "/home/sahab/anaconda3/lib/python3.7/site-packages/ipykernel_launcher.py:2: ElasticsearchWarning: Elasticsearch built-in security features are not enabled. Without authentication, your cluster could be accessible to anyone. See https://www.elastic.co/guide/en/elasticsearch/reference/7.17/security-minimal-setup.html to enable security.\n",
      "  \n"
     ]
    },
    {
     "name": "stdout",
     "output_type": "stream",
     "text": [
      "Working\n"
     ]
    }
   ],
   "source": [
    "try:\n",
    "    res=helpers.bulk(es, requests, index=iindex)\n",
    "    print(\"Working\")\n",
    "except Exception as e:\n",
    "    print(e)\n",
    "\n",
    "\n"
   ]
  },
  {
   "cell_type": "code",
   "execution_count": 26,
   "metadata": {},
   "outputs": [
    {
     "name": "stdout",
     "output_type": "stream",
     "text": [
      "{\"count\":6234,\"_shards\":{\"total\":1,\"successful\":1,\"skipped\":0,\"failed\":0}}"
     ]
    }
   ],
   "source": [
    "!curl -X GET \"localhost:9200/{iindex}/_count\""
   ]
  },
  {
   "cell_type": "code",
   "execution_count": 27,
   "metadata": {},
   "outputs": [],
   "source": [
    "title = \"spiderman home coming\"\n",
    "x = tf.constant([title])\n",
    "embeddings = embed(x)\n",
    "x = np.asarray(embeddings)\n",
    "x = x[0].tolist()\n",
    "\n"
   ]
  },
  {
   "cell_type": "code",
   "execution_count": 28,
   "metadata": {},
   "outputs": [],
   "source": [
    "body= {\n",
    "   \"query\":{\n",
    "      \"function_score\":{\n",
    "         \"query\":{\n",
    "            \"multi_match\":{\n",
    "               \"query\":title,\n",
    "               \"fields\":[\n",
    "                  \"title\"\n",
    "               ]\n",
    "            }\n",
    "         },\n",
    "         \"boost_mode\":\"replace\",\n",
    "         \"functions\":  [\n",
    "            \n",
    "         ]\n",
    "      }\n",
    "   }\n",
    "}"
   ]
  },
  {
   "cell_type": "code",
   "execution_count": 29,
   "metadata": {},
   "outputs": [
    {
     "name": "stdout",
     "output_type": "stream",
     "text": [
      "id: 1250, score: 6.615329\n",
      "Iron Sky: The Coming Race\n",
      "\n",
      "id: 1553, score: 6.261637\n",
      "Away From Home\n",
      "\n",
      "id: 4152, score: 6.261637\n",
      "Home for Christmas\n",
      "\n",
      "id: 1734, score: 5.517851\n",
      "Take Me Home Tonight\n",
      "\n",
      "id: 5200, score: 5.517851\n",
      "Ram Dass, Going Home\n",
      "\n"
     ]
    },
    {
     "name": "stderr",
     "output_type": "stream",
     "text": [
      "/home/sahab/anaconda3/lib/python3.7/site-packages/ipykernel_launcher.py:1: DeprecationWarning: The 'body' parameter is deprecated and will be removed in a future version. Instead use individual parameters.\n",
      "  \"\"\"Entry point for launching an IPython kernel.\n",
      "/home/sahab/anaconda3/lib/python3.7/site-packages/ipykernel_launcher.py:1: ElasticsearchWarning: Elasticsearch built-in security features are not enabled. Without authentication, your cluster could be accessible to anyone. See https://www.elastic.co/guide/en/elasticsearch/reference/7.17/security-minimal-setup.html to enable security.\n",
      "  \"\"\"Entry point for launching an IPython kernel.\n"
     ]
    }
   ],
   "source": [
    "\n",
    "res = es.search(index=iindex, body=body, size=5)\n",
    "\n",
    "for hit in res[\"hits\"][\"hits\"]:\n",
    "    print(\"id: {}, score: {}\".format(hit[\"_id\"], hit[\"_score\"]))\n",
    "    print(hit[\"_source\"]['title'])\n",
    "    print()"
   ]
  },
  {
   "cell_type": "code",
   "execution_count": 30,
   "metadata": {},
   "outputs": [
    {
     "ename": "SyntaxError",
     "evalue": "EOF while scanning triple-quoted string literal (<ipython-input-30-10f4a26da856>, line 13)",
     "output_type": "error",
     "traceback": [
      "\u001b[0;36m  File \u001b[0;32m\"<ipython-input-30-10f4a26da856>\"\u001b[0;36m, line \u001b[0;32m13\u001b[0m\n\u001b[0;31m    \"\"\"\u001b[0m\n\u001b[0m       ^\u001b[0m\n\u001b[0;31mSyntaxError\u001b[0m\u001b[0;31m:\u001b[0m EOF while scanning triple-quoted string literal\n"
     ]
    }
   ],
   "source": [
    "#sample curl command\n",
    "curl -X GET \"localhost:9200/my-approx-knn-index/_knn_search?pretty\" -H 'Content-Type: application/json' -d'\n",
    "{\n",
    "  \"knn\": {\n",
    "    \"field\": \"my-image-vector\",\n",
    "    \"query_vector\": [-0.5, 90.0, -10, 14.8, -156.0],\n",
    "    \"k\": 10,\n",
    "    \"num_candidates\": 100\n",
    "  },\n",
    "  \"fields\": [\n",
    "    \"my-image-vector\",\n",
    "    \"my-tag\"\n",
    "  ]\n",
    "}\n",
    "'\n"
   ]
  },
  {
   "cell_type": "code",
   "execution_count": 31,
   "metadata": {},
   "outputs": [
    {
     "data": {
      "text/plain": [
       "[-0.019000479951500893,\n",
       " 0.11434528231620789,\n",
       " -0.05465194955468178,\n",
       " 0.14108814299106598,\n",
       " -0.013230196200311184,\n",
       " -0.01774519868195057,\n",
       " -0.03944757953286171,\n",
       " -0.051330190151929855,\n",
       " 0.010928218252956867,\n",
       " 0.10952216386795044,\n",
       " 0.03544875606894493,\n",
       " -0.06671733409166336,\n",
       " 0.011308345943689346,\n",
       " -0.0351598784327507,\n",
       " -0.06555944681167603,\n",
       " -0.09359932690858841,\n",
       " -0.20417484641075134,\n",
       " -0.15182816982269287,\n",
       " -0.04365351423621178,\n",
       " -0.15484508872032166,\n",
       " 0.04812793806195259,\n",
       " -0.08167213201522827,\n",
       " 0.09944505989551544,\n",
       " 0.06260702759027481,\n",
       " 0.10921692848205566,\n",
       " -0.07084016501903534,\n",
       " 0.06559886783361435,\n",
       " 0.1389821618795395,\n",
       " -0.05537295714020729,\n",
       " -0.005390515550971031,\n",
       " 0.05129179358482361,\n",
       " -0.06244787573814392,\n",
       " -0.046145278960466385,\n",
       " -0.002746670274063945,\n",
       " -0.06947936862707138,\n",
       " -0.06878000497817993,\n",
       " 0.07911903411149979,\n",
       " 0.16538846492767334,\n",
       " 0.06931640207767487,\n",
       " 0.06250498443841934,\n",
       " -0.058125048875808716,\n",
       " -0.024755995720624924,\n",
       " -0.001684224815107882,\n",
       " 0.10636293888092041,\n",
       " -0.029143527150154114,\n",
       " -0.04279983043670654,\n",
       " 0.1644475907087326,\n",
       " 0.05033474788069725,\n",
       " 0.04814545065164566,\n",
       " 0.018329372629523277,\n",
       " 0.0011439747177064419,\n",
       " 0.03593894839286804,\n",
       " -0.07764429599046707,\n",
       " -0.09866046160459518,\n",
       " 0.025576289743185043,\n",
       " 0.019259443506598473,\n",
       " -0.11074381321668625,\n",
       " -0.08570282906293869,\n",
       " -0.09638366848230362,\n",
       " 0.017205405980348587,\n",
       " -0.0784822553396225,\n",
       " -0.02662198804318905,\n",
       " 0.04858413338661194,\n",
       " 0.016061773523688316,\n",
       " -0.0240712221711874,\n",
       " 0.05961774289608002,\n",
       " -0.18543709814548492,\n",
       " -0.10620229691267014,\n",
       " -0.11972598731517792,\n",
       " 0.015192518010735512,\n",
       " -0.00417238287627697,\n",
       " -0.04631692171096802,\n",
       " 0.10172846913337708,\n",
       " -0.12190455198287964,\n",
       " -0.114778071641922,\n",
       " 0.11012311279773712,\n",
       " 0.011598602868616581,\n",
       " 0.0018608166137710214,\n",
       " -0.019401730969548225,\n",
       " -0.0355086624622345,\n",
       " -0.011277267709374428,\n",
       " 0.1526775062084198,\n",
       " -0.09321799129247665,\n",
       " -0.048516735434532166,\n",
       " 0.02681434154510498,\n",
       " -0.14958442747592926,\n",
       " -0.17975689470767975,\n",
       " 0.028767963871359825,\n",
       " 0.13452637195587158,\n",
       " 0.06084650754928589,\n",
       " 0.16063275933265686,\n",
       " -0.04488605260848999,\n",
       " -0.07596518099308014,\n",
       " -0.01116274669766426,\n",
       " 0.20562219619750977,\n",
       " 0.07907459884881973,\n",
       " -0.024914110079407692,\n",
       " 0.024356579408049583,\n",
       " 0.12834778428077698,\n",
       " 0.010313408449292183,\n",
       " 0.16947036981582642,\n",
       " -0.05329570919275284,\n",
       " -0.03428902104496956,\n",
       " 0.01207448448985815,\n",
       " -0.10666248947381973,\n",
       " 0.017078571021556854,\n",
       " -0.0459013357758522,\n",
       " 0.09192796796560287,\n",
       " -0.11219774931669235,\n",
       " -0.0660376027226448,\n",
       " -0.040746401995420456,\n",
       " -0.12054460495710373,\n",
       " -0.023857947438955307,\n",
       " -0.0018645068630576134,\n",
       " -0.10978132486343384,\n",
       " -0.059644874185323715,\n",
       " -0.1043504849076271,\n",
       " 0.06509506702423096,\n",
       " -0.034171514213085175,\n",
       " 0.22070981562137604,\n",
       " -0.027040041983127594,\n",
       " -0.3342290222644806,\n",
       " -0.015856314450502396,\n",
       " 0.0717751532793045,\n",
       " -0.0477990098297596,\n",
       " -0.09636294841766357,\n",
       " 0.12978091835975647,\n",
       " -0.08717481791973114]"
      ]
     },
     "execution_count": 31,
     "metadata": {},
     "output_type": "execute_result"
    }
   ],
   "source": [
    "x"
   ]
  },
  {
   "cell_type": "code",
   "execution_count": 39,
   "metadata": {},
   "outputs": [
    {
     "name": "stdout",
     "output_type": "stream",
     "text": [
      "{\r\n",
      "  \"error\" : \"Incorrect HTTP method for uri [/netflix-titles/_knn_search?pretty] and method [GET], allowed: [POST]\",\r\n",
      "  \"status\" : 405\r\n",
      "}\r\n"
     ]
    }
   ],
   "source": [
    "!curl -X GET \"localhost:9200/netflix-titles/_knn_search?pretty\" -H 'Content-Type: application/json' -d'{  \"knn\": {    \"field\": \"title-vector\",\"query_vector\": ,    \"k\": 10,    \"num_candidates\": 100 } \"fields\": [\"title\"  ]}'"
   ]
  },
  {
   "cell_type": "code",
   "execution_count": 98,
   "metadata": {},
   "outputs": [
    {
     "name": "stderr",
     "output_type": "stream",
     "text": [
      "/home/sahab/anaconda3/lib/python3.7/site-packages/ipykernel_launcher.py:24: DeprecationWarning: The 'body' parameter is deprecated and will be removed in a future version. Instead use individual parameters.\n"
     ]
    },
    {
     "ename": "BadRequestError",
     "evalue": "BadRequestError(400, 'parsing_exception', 'unknown query [knn]')",
     "output_type": "error",
     "traceback": [
      "\u001b[0;31m---------------------------------------------------------------------------\u001b[0m",
      "\u001b[0;31mBadRequestError\u001b[0m                           Traceback (most recent call last)",
      "\u001b[0;32m<ipython-input-98-5295e57695ad>\u001b[0m in \u001b[0;36m<module>\u001b[0;34m\u001b[0m\n\u001b[1;32m     22\u001b[0m         \u001b[0;34m\"size\"\u001b[0m\u001b[0;34m:\u001b[0m \u001b[0;36m10\u001b[0m\u001b[0;34m,\u001b[0m\u001b[0;34m\u001b[0m\u001b[0;34m\u001b[0m\u001b[0m\n\u001b[1;32m     23\u001b[0m         \u001b[0;34m\"query\"\u001b[0m\u001b[0;34m:\u001b[0m \u001b[0mscript_query\u001b[0m\u001b[0;34m,\u001b[0m\u001b[0;34m\u001b[0m\u001b[0;34m\u001b[0m\u001b[0m\n\u001b[0;32m---> 24\u001b[0;31m         \u001b[0;34m\"_source\"\u001b[0m\u001b[0;34m:\u001b[0m \u001b[0;34m{\u001b[0m\u001b[0;34m\"includes\"\u001b[0m\u001b[0;34m:\u001b[0m \u001b[0;34m[\u001b[0m\u001b[0;34m\"title\"\u001b[0m\u001b[0;34m,\u001b[0m \u001b[0;34m\"body\"\u001b[0m\u001b[0;34m]\u001b[0m\u001b[0;34m}\u001b[0m\u001b[0;34m\u001b[0m\u001b[0;34m\u001b[0m\u001b[0m\n\u001b[0m\u001b[1;32m     25\u001b[0m     }\n\u001b[1;32m     26\u001b[0m )\n",
      "\u001b[0;32m~/anaconda3/lib/python3.7/site-packages/elasticsearch/_sync/client/utils.py\u001b[0m in \u001b[0;36mwrapped\u001b[0;34m(*args, **kwargs)\u001b[0m\n\u001b[1;32m    402\u001b[0m                         \u001b[0;32mpass\u001b[0m\u001b[0;34m\u001b[0m\u001b[0;34m\u001b[0m\u001b[0m\n\u001b[1;32m    403\u001b[0m \u001b[0;34m\u001b[0m\u001b[0m\n\u001b[0;32m--> 404\u001b[0;31m             \u001b[0;32mreturn\u001b[0m \u001b[0mapi\u001b[0m\u001b[0;34m(\u001b[0m\u001b[0;34m*\u001b[0m\u001b[0margs\u001b[0m\u001b[0;34m,\u001b[0m \u001b[0;34m**\u001b[0m\u001b[0mkwargs\u001b[0m\u001b[0;34m)\u001b[0m\u001b[0;34m\u001b[0m\u001b[0;34m\u001b[0m\u001b[0m\n\u001b[0m\u001b[1;32m    405\u001b[0m \u001b[0;34m\u001b[0m\u001b[0m\n\u001b[1;32m    406\u001b[0m         \u001b[0;32mreturn\u001b[0m \u001b[0mwrapped\u001b[0m  \u001b[0;31m# type: ignore[return-value]\u001b[0m\u001b[0;34m\u001b[0m\u001b[0;34m\u001b[0m\u001b[0m\n",
      "\u001b[0;32m~/anaconda3/lib/python3.7/site-packages/elasticsearch/_sync/client/__init__.py\u001b[0m in \u001b[0;36msearch\u001b[0;34m(self, index, aggregations, aggs, allow_no_indices, allow_partial_search_results, analyze_wildcard, analyzer, batched_reduce_size, ccs_minimize_roundtrips, collapse, default_operator, df, docvalue_fields, error_trace, expand_wildcards, explain, fields, filter_path, from_, highlight, human, ignore_throttled, ignore_unavailable, indices_boost, lenient, max_concurrent_shard_requests, min_compatible_shard_node, min_score, pit, post_filter, pre_filter_shard_size, preference, pretty, profile, q, query, request_cache, rescore, rest_total_hits_as_int, routing, runtime_mappings, script_fields, scroll, search_after, search_type, seq_no_primary_term, size, slice, sort, source, source_excludes, source_includes, stats, stored_fields, suggest, suggest_field, suggest_mode, suggest_size, suggest_text, terminate_after, timeout, track_scores, track_total_hits, typed_keys, version)\u001b[0m\n\u001b[1;32m   3698\u001b[0m             \u001b[0m__headers\u001b[0m\u001b[0;34m[\u001b[0m\u001b[0;34m\"content-type\"\u001b[0m\u001b[0;34m]\u001b[0m \u001b[0;34m=\u001b[0m \u001b[0;34m\"application/json\"\u001b[0m\u001b[0;34m\u001b[0m\u001b[0;34m\u001b[0m\u001b[0m\n\u001b[1;32m   3699\u001b[0m         return self.perform_request(  # type: ignore[return-value]\n\u001b[0;32m-> 3700\u001b[0;31m             \u001b[0;34m\"POST\"\u001b[0m\u001b[0;34m,\u001b[0m \u001b[0m__path\u001b[0m\u001b[0;34m,\u001b[0m \u001b[0mparams\u001b[0m\u001b[0;34m=\u001b[0m\u001b[0m__query\u001b[0m\u001b[0;34m,\u001b[0m \u001b[0mheaders\u001b[0m\u001b[0;34m=\u001b[0m\u001b[0m__headers\u001b[0m\u001b[0;34m,\u001b[0m \u001b[0mbody\u001b[0m\u001b[0;34m=\u001b[0m\u001b[0m__body\u001b[0m\u001b[0;34m\u001b[0m\u001b[0;34m\u001b[0m\u001b[0m\n\u001b[0m\u001b[1;32m   3701\u001b[0m         )\n\u001b[1;32m   3702\u001b[0m \u001b[0;34m\u001b[0m\u001b[0m\n",
      "\u001b[0;32m~/anaconda3/lib/python3.7/site-packages/elasticsearch/_sync/client/_base.py\u001b[0m in \u001b[0;36mperform_request\u001b[0;34m(self, method, path, params, headers, body)\u001b[0m\n\u001b[1;32m    320\u001b[0m \u001b[0;34m\u001b[0m\u001b[0m\n\u001b[1;32m    321\u001b[0m             raise HTTP_EXCEPTIONS.get(meta.status, ApiError)(\n\u001b[0;32m--> 322\u001b[0;31m                 \u001b[0mmessage\u001b[0m\u001b[0;34m=\u001b[0m\u001b[0mmessage\u001b[0m\u001b[0;34m,\u001b[0m \u001b[0mmeta\u001b[0m\u001b[0;34m=\u001b[0m\u001b[0mmeta\u001b[0m\u001b[0;34m,\u001b[0m \u001b[0mbody\u001b[0m\u001b[0;34m=\u001b[0m\u001b[0mresp_body\u001b[0m\u001b[0;34m\u001b[0m\u001b[0;34m\u001b[0m\u001b[0m\n\u001b[0m\u001b[1;32m    323\u001b[0m             )\n\u001b[1;32m    324\u001b[0m \u001b[0;34m\u001b[0m\u001b[0m\n",
      "\u001b[0;31mBadRequestError\u001b[0m: BadRequestError(400, 'parsing_exception', 'unknown query [knn]')"
     ]
    }
   ],
   "source": [
    "# script_query = {\n",
    "#     \"script_score\": {\n",
    "#         \"query\": {\"match_all\": {}},\n",
    "#         \"script\": {\n",
    "#             \"source\": \"cosineSimilarity(params.query_vector, doc['title_vector']) + 1.0\",\n",
    "#             \"params\": {\"query_vector\": x}\n",
    "#         }\n",
    "#     }\n",
    "# }\n",
    "script_query = {\n",
    "    \"knn\": {\n",
    "        \"title_vector\": {\n",
    "            \"vector\": x,\n",
    "            \"k\": 2\n",
    "        }\n",
    "    }\n",
    "}\n",
    "\n",
    "response = es.search(\n",
    "    index=iindex,\n",
    "    body={\n",
    "        \"size\": 10,\n",
    "        \"query\": script_query,\n",
    "        \"_source\": {\"includes\": [\"title\", \"body\"]}\n",
    "    }\n",
    ")\n",
    "\n",
    "for hit in response[\"hits\"][\"hits\"]:\n",
    "    print(\"id: {}, score: {}\".format(hit[\"_id\"], hit[\"_score\"]))\n",
    "    print(hit[\"_source\"])\n",
    "    print()"
   ]
  },
  {
   "cell_type": "code",
   "execution_count": null,
   "metadata": {},
   "outputs": [],
   "source": []
  }
 ],
 "metadata": {
  "kernelspec": {
   "display_name": "Python 3 (ipykernel)",
   "language": "python",
   "name": "python3"
  },
  "language_info": {
   "codemirror_mode": {
    "name": "ipython",
    "version": 3
   },
   "file_extension": ".py",
   "mimetype": "text/x-python",
   "name": "python",
   "nbconvert_exporter": "python",
   "pygments_lexer": "ipython3",
   "version": "3.7.6"
  }
 },
 "nbformat": 4,
 "nbformat_minor": 4
}
